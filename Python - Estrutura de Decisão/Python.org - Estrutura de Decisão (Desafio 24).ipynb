{
 "cells": [
  {
   "cell_type": "code",
   "execution_count": null,
   "id": "f704985c",
   "metadata": {},
   "outputs": [],
   "source": [
    "Python - Lista de Exercícios (Estrutura de Decisão) \n",
    "link: https://wiki.python.org.br/EstruturaDeDecisao"
   ]
  },
  {
   "cell_type": "markdown",
   "id": "0788cfd9",
   "metadata": {},
   "source": [
    "24) Faça um Programa que leia 2 números e em seguida pergunte ao usuário qual operação ele deseja realizar. O resultado da operação deve ser acompanhado de uma frase que diga se o número é: \n",
    "a. par ou ímpar;\n",
    "b. positivo ou negativo;\n",
    "c. inteiro ou decimal."
   ]
  },
  {
   "cell_type": "code",
   "execution_count": null,
   "id": "6d7cf684",
   "metadata": {},
   "outputs": [],
   "source": [
    "Obs.: Visando desenvolver o programa de forma mais dinâmica e menos suscetível a erros, adicionei \n",
    "outras estruturas no corpo do código. De modo que apenas números sejam aceitos\n",
    "durante sua execução."
   ]
  },
  {
   "cell_type": "code",
   "execution_count": null,
   "id": "eb6d47b6",
   "metadata": {},
   "outputs": [],
   "source": [
    "while True:\n",
    "  x = input(\"Digite um número: \")\n",
    "  y = input(\"Digite outro número: \")\n",
    "  try:\n",
    "    float(x), float(y)\n",
    "    break\n",
    "  except:\n",
    "    print(\"Por favor, digite apenas números.\")\n",
    "    continue\n",
    "\n",
    "som = float(x) + float(y)\n",
    "sub = float(x) - float(y)\n",
    "mul = float(x) * float(y)\n",
    "div = float(x) / float(y)\n",
    "\n",
    "while True:\n",
    "  print(\"(1) Soma, (2) Subtração, (3) Multiplicação ou (4) Divisão: \")\n",
    "  a = input(\"Qual operação você deseja realizar com ambos os números? \")\n",
    "  if a == \"1\":\n",
    "    print(f\"Resultado: {som}\")\n",
    "    b = som\n",
    "    break\n",
    "  elif a == \"2\":\n",
    "    print(f\"Resultado: {sub}\")\n",
    "    b = sub\n",
    "    break\n",
    "  elif a == \"3\":\n",
    "    print(f\"Resultado: {mul}\")\n",
    "    b = mul\n",
    "    break\n",
    "  elif a == \"4\":\n",
    "    print(f\"Resultado: {div}\")\n",
    "    b = div\n",
    "    break\n",
    "  else:\n",
    "    print(\"Por favor, digite um número equivalente a uma operação.\")\n",
    "    continue\n",
    "\n",
    "if b % 2 == 0:\n",
    "  print(\"Número Par.\")\n",
    "else:\n",
    "  print(\"Número Ímpar.\")\n",
    "if b > 0:\n",
    "  print(\"Número Positivo.\")\n",
    "else:\n",
    "  print(\"Número Negativo.\")\n",
    "if b % 1 == 0:\n",
    "  print(\"Número Inteiro.\")\n",
    "else:\n",
    "  print(\"Número Decimal.\")"
   ]
  }
 ],
 "metadata": {
  "kernelspec": {
   "display_name": "Python 3 (ipykernel)",
   "language": "python",
   "name": "python3"
  },
  "language_info": {
   "codemirror_mode": {
    "name": "ipython",
    "version": 3
   },
   "file_extension": ".py",
   "mimetype": "text/x-python",
   "name": "python",
   "nbconvert_exporter": "python",
   "pygments_lexer": "ipython3",
   "version": "3.8.10"
  }
 },
 "nbformat": 4,
 "nbformat_minor": 5
}
